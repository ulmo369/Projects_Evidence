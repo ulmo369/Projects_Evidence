{
 "cells": [
  {
   "cell_type": "markdown",
   "metadata": {},
   "source": [
    "# Tokenizer"
   ]
  },
  {
   "cell_type": "code",
   "execution_count": 75,
   "metadata": {},
   "outputs": [],
   "source": [
    "import os\n",
    "import random \n",
    "import numpy as np \n",
    "import pandas as pd\n",
    "import matplotlib.pyplot as plt\n",
    "import tensorflow as tf\n",
    "from tensorflow.keras.preprocessing.text import Tokenizer\n",
    "from tensorflow.keras.preprocessing.sequence import pad_sequences\n",
    "from tensorflow.keras.models import Sequential\n",
    "from tensorflow.keras.layers import Embedding, LSTM, Dense, Conv1D, Flatten, Dropout, Input, GlobalMaxPooling1D, concatenate"
   ]
  },
  {
   "cell_type": "markdown",
   "metadata": {},
   "source": [
    "We use the Tokenizer from Keras to convert text to sequences of integers. Each unique word is assigned a unique integer index."
   ]
  },
  {
   "cell_type": "code",
   "execution_count": 76,
   "metadata": {},
   "outputs": [],
   "source": [
    "df = pd.read_csv('data.csv')"
   ]
  },
  {
   "cell_type": "markdown",
   "metadata": {},
   "source": [
    "Review the code below for implementation details."
   ]
  },
  {
   "cell_type": "code",
   "execution_count": 77,
   "metadata": {},
   "outputs": [],
   "source": [
    "def quit_space(text):\n",
    "    text = text.lower()\n",
    "    text = text.replace('\\n', ' ')\n",
    "    text = text.replace('\\t', ' ')\n",
    "    return text"
   ]
  },
  {
   "cell_type": "markdown",
   "metadata": {},
   "source": [
    "# Split y Tokenizer\n",
    "we use the Tokenizer from Keras to convert text to sequences of integers. Each unique word is assigned a unique integer index."
   ]
  },
  {
   "cell_type": "code",
   "execution_count": 78,
   "metadata": {},
   "outputs": [
    {
     "name": "stdout",
     "output_type": "stream",
     "text": [
      "4711\n"
     ]
    }
   ],
   "source": [
    "from sklearn.model_selection import train_test_split\n",
    "\n",
    "df['Code1'] = df['Code1'].apply(quit_space)\n",
    "df['Code2'] = df['Code2'].apply(quit_space)\n",
    "\n",
    "x_features = df[['Code1', 'Code2']]\n",
    "y_labels = df['Plagio']\n",
    "\n",
    "# Split the data into training and testing sets\n",
    "X_train, X_test, y_train, y_test = train_test_split(x_features, y_labels, test_size=0.2, random_state=42)\n",
    "\n",
    "# Tokenización y padding\n",
    "tokenizer = Tokenizer()\n",
    "tokenizer.fit_on_texts(X_train['Code1'] + X_train['Code2'])\n",
    "\n",
    "X_train_code1_sequences = tokenizer.texts_to_sequences(X_train['Code1'])\n",
    "X_train_code2_sequences = tokenizer.texts_to_sequences(X_train['Code2'])\n",
    "X_test_code1_sequences = tokenizer.texts_to_sequences(X_test['Code1'])\n",
    "X_test_code2_sequences = tokenizer.texts_to_sequences(X_test['Code2'])\n",
    "\n",
    "max_length = max(max(len(seq) for seq in X_train_code1_sequences), max(len(seq) for seq in X_train_code2_sequences))\n",
    "\n",
    "X_train_code1_padded = pad_sequences(X_train_code1_sequences, maxlen=max_length, padding='post', truncating='post')\n",
    "X_train_code2_padded = pad_sequences(X_train_code2_sequences, maxlen=max_length, padding='post', truncating='post')\n",
    "X_test_code1_padded = pad_sequences(X_test_code1_sequences, maxlen=max_length, padding='post', truncating='post')\n",
    "X_test_code2_padded = pad_sequences(X_test_code2_sequences, maxlen=max_length, padding='post', truncating='post')\n",
    "\n",
    "print(max_length)\n"
   ]
  },
  {
   "cell_type": "markdown",
   "metadata": {},
   "source": [
    "# Defining the CNN model\n",
    "We define our CNN and its respective layers."
   ]
  },
  {
   "cell_type": "code",
   "execution_count": 79,
   "metadata": {},
   "outputs": [
    {
     "name": "stdout",
     "output_type": "stream",
     "text": [
      "Requirement already satisfied: imbalanced-learn in c:\\users\\e1000\\anaconda3\\lib\\site-packages (0.12.3)\n",
      "Requirement already satisfied: joblib>=1.1.1 in c:\\users\\e1000\\anaconda3\\lib\\site-packages (from imbalanced-learn) (1.4.2)\n",
      "Requirement already satisfied: scikit-learn>=1.0.2 in c:\\users\\e1000\\anaconda3\\lib\\site-packages (from imbalanced-learn) (1.5.0)\n",
      "Requirement already satisfied: threadpoolctl>=2.0.0 in c:\\users\\e1000\\anaconda3\\lib\\site-packages (from imbalanced-learn) (3.5.0)\n",
      "Requirement already satisfied: scipy>=1.5.0 in c:\\users\\e1000\\anaconda3\\lib\\site-packages (from imbalanced-learn) (1.7.1)\n",
      "Requirement already satisfied: numpy>=1.17.3 in c:\\users\\e1000\\anaconda3\\lib\\site-packages (from imbalanced-learn) (1.22.4)\n"
     ]
    }
   ],
   "source": [
    "!pip install imbalanced-learn"
   ]
  },
  {
   "cell_type": "code",
   "execution_count": 80,
   "metadata": {},
   "outputs": [
    {
     "name": "stdout",
     "output_type": "stream",
     "text": [
      "Requirement already satisfied: scikit-learn in c:\\users\\e1000\\anaconda3\\lib\\site-packages (1.5.0)\n",
      "Requirement already satisfied: joblib>=1.2.0 in c:\\users\\e1000\\anaconda3\\lib\\site-packages (from scikit-learn) (1.4.2)\n",
      "Requirement already satisfied: scipy>=1.6.0 in c:\\users\\e1000\\anaconda3\\lib\\site-packages (from scikit-learn) (1.7.1)\n",
      "Requirement already satisfied: numpy>=1.19.5 in c:\\users\\e1000\\anaconda3\\lib\\site-packages (from scikit-learn) (1.22.4)\n",
      "Requirement already satisfied: threadpoolctl>=3.1.0 in c:\\users\\e1000\\anaconda3\\lib\\site-packages (from scikit-learn) (3.5.0)\n",
      "Requirement already satisfied: imbalanced-learn in c:\\users\\e1000\\anaconda3\\lib\\site-packages (0.12.3)\n",
      "Requirement already satisfied: numpy>=1.17.3 in c:\\users\\e1000\\anaconda3\\lib\\site-packages (from imbalanced-learn) (1.22.4)\n",
      "Requirement already satisfied: scipy>=1.5.0 in c:\\users\\e1000\\anaconda3\\lib\\site-packages (from imbalanced-learn) (1.7.1)\n",
      "Requirement already satisfied: threadpoolctl>=2.0.0 in c:\\users\\e1000\\anaconda3\\lib\\site-packages (from imbalanced-learn) (3.5.0)\n",
      "Requirement already satisfied: scikit-learn>=1.0.2 in c:\\users\\e1000\\anaconda3\\lib\\site-packages (from imbalanced-learn) (1.5.0)\n",
      "Requirement already satisfied: joblib>=1.1.1 in c:\\users\\e1000\\anaconda3\\lib\\site-packages (from imbalanced-learn) (1.4.2)\n"
     ]
    }
   ],
   "source": [
    "!pip install --upgrade scikit-learn\n",
    "!pip install --upgrade imbalanced-learn\n"
   ]
  },
  {
   "cell_type": "code",
   "execution_count": 81,
   "metadata": {},
   "outputs": [
    {
     "name": "stdout",
     "output_type": "stream",
     "text": [
      "Epoch 1/10\n"
     ]
    },
    {
     "name": "stderr",
     "output_type": "stream",
     "text": [
      "c:\\Users\\e1000\\anaconda3\\lib\\site-packages\\keras\\src\\layers\\layer.py:877: UserWarning: Layer 'conv1d_27' (of type Conv1D) was passed an input with a mask attached to it. However, this layer does not support masking and will therefore destroy the mask information. Downstream layers will not see the mask.\n",
      "  warnings.warn(\n",
      "c:\\Users\\e1000\\anaconda3\\lib\\site-packages\\keras\\src\\layers\\layer.py:877: UserWarning: Layer 'conv1d_28' (of type Conv1D) was passed an input with a mask attached to it. However, this layer does not support masking and will therefore destroy the mask information. Downstream layers will not see the mask.\n",
      "  warnings.warn(\n",
      "c:\\Users\\e1000\\anaconda3\\lib\\site-packages\\keras\\src\\layers\\layer.py:877: UserWarning: Layer 'conv1d_29' (of type Conv1D) was passed an input with a mask attached to it. However, this layer does not support masking and will therefore destroy the mask information. Downstream layers will not see the mask.\n",
      "  warnings.warn(\n"
     ]
    },
    {
     "name": "stdout",
     "output_type": "stream",
     "text": [
      "\u001b[1m19/19\u001b[0m \u001b[32m━━━━━━━━━━━━━━━━━━━━\u001b[0m\u001b[37m\u001b[0m \u001b[1m26s\u001b[0m 1s/step - acc: 0.6607 - loss: 0.6296 - val_acc: 0.7596 - val_loss: 0.5459\n",
      "Epoch 2/10\n",
      "\u001b[1m19/19\u001b[0m \u001b[32m━━━━━━━━━━━━━━━━━━━━\u001b[0m\u001b[37m\u001b[0m \u001b[1m23s\u001b[0m 1s/step - acc: 0.7139 - loss: 0.5851 - val_acc: 0.7596 - val_loss: 0.5417\n",
      "Epoch 3/10\n",
      "\u001b[1m19/19\u001b[0m \u001b[32m━━━━━━━━━━━━━━━━━━━━\u001b[0m\u001b[37m\u001b[0m \u001b[1m23s\u001b[0m 1s/step - acc: 0.7236 - loss: 0.5546 - val_acc: 0.7596 - val_loss: 0.5382\n",
      "Epoch 4/10\n",
      "\u001b[1m19/19\u001b[0m \u001b[32m━━━━━━━━━━━━━━━━━━━━\u001b[0m\u001b[37m\u001b[0m \u001b[1m23s\u001b[0m 1s/step - acc: 0.7382 - loss: 0.5230 - val_acc: 0.7596 - val_loss: 0.5265\n",
      "Epoch 5/10\n",
      "\u001b[1m19/19\u001b[0m \u001b[32m━━━━━━━━━━━━━━━━━━━━\u001b[0m\u001b[37m\u001b[0m \u001b[1m26s\u001b[0m 1s/step - acc: 0.7414 - loss: 0.4731 - val_acc: 0.7760 - val_loss: 0.5223\n",
      "Epoch 6/10\n",
      "\u001b[1m19/19\u001b[0m \u001b[32m━━━━━━━━━━━━━━━━━━━━\u001b[0m\u001b[37m\u001b[0m \u001b[1m28s\u001b[0m 1s/step - acc: 0.7816 - loss: 0.4298 - val_acc: 0.7923 - val_loss: 0.5061\n",
      "Epoch 7/10\n",
      "\u001b[1m19/19\u001b[0m \u001b[32m━━━━━━━━━━━━━━━━━━━━\u001b[0m\u001b[37m\u001b[0m \u001b[1m27s\u001b[0m 1s/step - acc: 0.8296 - loss: 0.3644 - val_acc: 0.7869 - val_loss: 0.5028\n",
      "Epoch 8/10\n",
      "\u001b[1m19/19\u001b[0m \u001b[32m━━━━━━━━━━━━━━━━━━━━\u001b[0m\u001b[37m\u001b[0m \u001b[1m29s\u001b[0m 2s/step - acc: 0.8803 - loss: 0.2967 - val_acc: 0.7760 - val_loss: 0.5213\n",
      "Epoch 9/10\n",
      "\u001b[1m19/19\u001b[0m \u001b[32m━━━━━━━━━━━━━━━━━━━━\u001b[0m\u001b[37m\u001b[0m \u001b[1m26s\u001b[0m 1s/step - acc: 0.9255 - loss: 0.2422 - val_acc: 0.8033 - val_loss: 0.5627\n",
      "Epoch 10/10\n",
      "\u001b[1m19/19\u001b[0m \u001b[32m━━━━━━━━━━━━━━━━━━━━\u001b[0m\u001b[37m\u001b[0m \u001b[1m26s\u001b[0m 1s/step - acc: 0.9347 - loss: 0.1765 - val_acc: 0.7596 - val_loss: 0.5877\n"
     ]
    }
   ],
   "source": [
    "from tensorflow.keras.models import Model\n",
    "from tensorflow.keras.layers import Embedding, LSTM, Dense, Conv1D, GlobalMaxPooling1D, concatenate, Input, Masking\n",
    "\n",
    "embedding_dim = 100\n",
    "num_filters = 64\n",
    "filter_sizes = [3, 4, 5]\n",
    "dropout_rate = 0.5\n",
    "\n",
    "input1 = Input(shape=(max_length,))\n",
    "input2 = Input(shape=(max_length,))\n",
    "\n",
    "embedding_layer = Embedding(len(tokenizer.word_index) + 1, embedding_dim)\n",
    "\n",
    "embedded_input1 = embedding_layer(input1)\n",
    "embedded_input2 = embedding_layer(input2)\n",
    "\n",
    "# LOCOOOOOO\n",
    "masked_input1 = Masking(mask_value=0)(embedded_input1)\n",
    "masked_input2 = Masking(mask_value=0)(embedded_input2)\n",
    "\n",
    "conv_blocks = []\n",
    "for filter_size in filter_sizes:\n",
    "    conv = Conv1D(filters=num_filters, kernel_size=filter_size, activation='relu')\n",
    "    conv_block1 = conv(masked_input1)\n",
    "    conv_block2 = conv(masked_input2)\n",
    "    pool1 = GlobalMaxPooling1D()(conv_block1)\n",
    "    pool2 = GlobalMaxPooling1D()(conv_block2)\n",
    "    conv_blocks.extend([pool1, pool2])\n",
    "\n",
    "if len(filter_sizes) > 1:\n",
    "    merged = concatenate(conv_blocks)\n",
    "else:\n",
    "    merged = conv_blocks[0]\n",
    "\n",
    "drop1 = Dropout(dropout_rate)(merged)  \n",
    "dense1 = Dense(64, activation='relu')(drop1)\n",
    "#drop2 = Dropout(dropout_rate)(dense1)  \n",
    "output = Dense(1, activation='sigmoid')(dense1)\n",
    "\n",
    "model = Model(inputs=[input1, input2], outputs=output)\n",
    "\n",
    "model.compile(loss='binary_crossentropy', optimizer='adam', metrics=['acc'])\n",
    "\n",
    "\n",
    "history = model.fit([X_train_code1_padded, X_train_code2_padded], y_train, epochs=10, batch_size=40, validation_data=([X_test_code1_padded, X_test_code2_padded], y_test))\n"
   ]
  },
  {
   "cell_type": "markdown",
   "metadata": {},
   "source": [
    "Evaluamos nuestro modelo."
   ]
  },
  {
   "cell_type": "code",
   "execution_count": 82,
   "metadata": {},
   "outputs": [
    {
     "name": "stdout",
     "output_type": "stream",
     "text": [
      "\u001b[1m6/6\u001b[0m \u001b[32m━━━━━━━━━━━━━━━━━━━━\u001b[0m\u001b[37m\u001b[0m \u001b[1m1s\u001b[0m 222ms/step - acc: 0.7770 - loss: 0.5645\n",
      "Loss: 0.5877448320388794\n",
      "Accuracy: 0.7595628499984741\n"
     ]
    }
   ],
   "source": [
    "# Evaluat the model\n",
    "loss, accuracy = model.evaluate([X_test_code1_padded, X_test_code2_padded], y_test)\n",
    "print(\"Loss:\", loss)\n",
    "print(\"Accuracy:\", accuracy)"
   ]
  },
  {
   "cell_type": "markdown",
   "metadata": {},
   "source": [
    "we evaluate our model"
   ]
  },
  {
   "cell_type": "code",
   "execution_count": null,
   "metadata": {},
   "outputs": [
    {
     "name": "stdout",
     "output_type": "stream",
     "text": [
      "\u001b[1m6/6\u001b[0m \u001b[32m━━━━━━━━━━━━━━━━━━━━\u001b[0m\u001b[37m\u001b[0m \u001b[1m3s\u001b[0m 395ms/step\n",
      "Matriz de Confusión:\n",
      "[[118  21]\n",
      " [ 23  21]]\n"
     ]
    },
    {
     "data": {
      "image/png": "[encoded data removed]",
      "text/plain": [
       "<Figure size 432x288 with 2 Axes>"
      ]
     },
     "metadata": {
      "needs_background": "light"
     },
     "output_type": "display_data"
    }
   ],
   "source": [
    "from sklearn.metrics import confusion_matrix, ConfusionMatrixDisplay\n",
    "\n",
    "\n",
    "# Predictions and confusion matrix\n",
    "y_pred = model.predict([X_test_code1_padded, X_test_code2_padded])\n",
    "y_pred_classes = np.round(y_pred)\n",
    "\n",
    "# Create the confusion matrix\n",
    "conf_matrix = confusion_matrix(y_test, y_pred_classes)\n",
    "\n",
    "print(\"Confusion Matrix:\")\n",
    "print(conf_matrix)\n",
    "\n",
    "disp = ConfusionMatrixDisplay(conf_matrix, display_labels=['No Plagiarism', 'Plagiarism'])\n",
    "disp.plot(cmap=plt.cm.Blues)\n",
    "plt.show()\n"
   ]
  },
  {
   "cell_type": "markdown",
   "metadata": {},
   "source": [
    "we evaluate our model."
   ]
  },
  {
   "cell_type": "code",
   "execution_count": null,
   "metadata": {},
   "outputs": [
    {
     "name": "stdout",
     "output_type": "stream",
     "text": [
      "Classification Report:\n",
      "               precision    recall  f1-score   support\n",
      "\n",
      "           0       0.82      0.97      0.89       139\n",
      "           1       0.79      0.34      0.48        44\n",
      "\n",
      "    accuracy                           0.82       183\n",
      "   macro avg       0.81      0.66      0.68       183\n",
      "weighted avg       0.82      0.82      0.79       183\n",
      "\n"
     ]
    }
   ],
   "source": [
    "import numpy as np\n",
    "from sklearn.metrics import classification_report, f1_score, recall_score, accuracy_score, precision_score\n",
    "\n",
    "# Convert predictions to binary labels\n",
    "y_pred_test = (y_pred > 0.8).astype(\"int32\")  # Para problemas binarios\n",
    "\n",
    "# Calculate F1 and Recall\n",
    "f1 = f1_score(y_test, y_pred_test, average='macro')\n",
    "recall = recall_score(y_test, y_pred_test, average='macro')\n",
    "accuracy = accuracy_score(y_test, y_pred_test)\n",
    "precision = precision_score(y_test, y_pred_test, average='macro')\n",
    "\n",
    "# To obtain a detailed classification report\n",
    "report = classification_report(y_test, y_pred_test)\n",
    "print(\"Classification Report:\\n\", report)\n"
   ]
  },
  {
   "cell_type": "code",
   "execution_count": 85,
   "metadata": {},
   "outputs": [
    {
     "name": "stdout",
     "output_type": "stream",
     "text": [
      "F1 Score Test: 68.36%\n",
      "Recall Test: 65.61%\n",
      "Accuracy Test: 81.97%\n",
      "Precision Test: 80.63%\n"
     ]
    }
   ],
   "source": [
    "print(\"F1 Score Test: {:.2f}%\".format(f1 * 100))\n",
    "print(\"Recall Test: {:.2f}%\".format(recall * 100))\n",
    "print(\"Accuracy Test: {:.2f}%\".format(accuracy * 100))\n",
    "print(\"Precision Test: {:.2f}%\".format(precision * 100))\n",
    "\n"
   ]
  },
  {
   "cell_type": "markdown",
   "metadata": {},
   "source": [
    "We conduct tests with the test set."
   ]
  },
  {
   "cell_type": "code",
   "execution_count": null,
   "metadata": {},
   "outputs": [],
   "source": [
    "def es_plagio(code1, code2):\n",
    "    # Preprocesing of the codes\n",
    "    \n",
    "    # Tokenización y padding\n",
    "    code1_sequence = tokenizer.texts_to_sequences([code1])\n",
    "    code2_sequence = tokenizer.texts_to_sequences([code2])\n",
    "    \n",
    "    code1_padded = pad_sequences(code1_sequence, maxlen=max_length, padding='post', truncating='post')\n",
    "    code2_padded = pad_sequences(code2_sequence, maxlen=max_length, padding='post', truncating='post')\n",
    "\n",
    "    # Model prediction\n",
    "    plagiarism_prob = model.predict([code1_padded, code2_padded])\n",
    "    print(plagiarism_prob)\n",
    "\n",
    "    # If the plagiarism probability is high (e.g., greater than 0.5), it is considered plagiarism\n",
    "    if plagiarism_prob > 0.2:\n",
    "        return \"Plagio detectado.\"\n",
    "    else:\n",
    "        return \"No hay plagio.\"\n",
    "\n"
   ]
  },
  {
   "cell_type": "code",
   "execution_count": null,
   "metadata": {},
   "outputs": [
    {
     "name": "stdout",
     "output_type": "stream",
     "text": [
      "\u001b[1m1/1\u001b[0m \u001b[32m━━━━━━━━━━━━━━━━━━━━\u001b[0m\u001b[37m\u001b[0m \u001b[1m0s\u001b[0m 49ms/step\n",
      "[[0.53220534]]\n",
      "Plagio detectado.\n"
     ]
    }
   ],
   "source": [
    "code1 = \"\"\"\n",
    "public class AreaTriangulo {\n",
    "\n",
    "    public static void main(String[] args) {\n",
    "        // Declaración de variables\n",
    "        double base = 5.0;\n",
    "        double altura = 3.0;\n",
    "        double area;\n",
    "\n",
    "        // Cálculo del área\n",
    "        area = (base * altura) / 2;\n",
    "\n",
    "        // Impresión del resultado\n",
    "        System.out.println(\"El área del triángulo es: \" + area);\n",
    "    }\n",
    "}\"\"\"\n",
    "\n",
    "code2 = \"\"\" \n",
    "public class AreaTriangulo {\n",
    "\n",
    "    public static void main(String[] args) {\n",
    "        // Declaración de variables en orden inverso\n",
    "        double altura = 3.0;\n",
    "        double base = 5.0;\n",
    "        double area;\n",
    "\n",
    "        // Cálculo del área (mismo que el código 1)\n",
    "        area = (base * altura) / 2;\n",
    "\n",
    "        // Impresión del resultado (mismo que el código 1)\n",
    "        System.out.println(\"El área del triángulo es: \" + area);\n",
    "    }\n",
    "}\"\"\"\n",
    "\n",
    "# Testing the plagiarism detection function\n",
    "resultado = es_plagio(code1, code2)\n",
    "print(resultado)"
   ]
  }
 ],
 "metadata": {
  "kernelspec": {
   "display_name": "Python 3",
   "language": "python",
   "name": "python3"
  },
  "language_info": {
   "codemirror_mode": {
    "name": "ipython",
    "version": 3
   },
   "file_extension": ".py",
   "mimetype": "text/x-python",
   "name": "python",
   "nbconvert_exporter": "python",
   "pygments_lexer": "ipython3",
   "version": "3.9.7"
  }
 },
 "nbformat": 4,
 "nbformat_minor": 2
}
