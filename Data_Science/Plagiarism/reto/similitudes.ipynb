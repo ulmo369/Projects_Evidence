{
  "cells": [
    {
      "cell_type": "code",
      "execution_count": null,
      "metadata": {},
      "outputs": [],
      "source": [
        "pip install numpy"
      ]
    },
    {
      "cell_type": "code",
      "execution_count": null,
      "metadata": {
        "id": "CPq7bAhoL202"
      },
      "outputs": [],
      "source": [
        "import numpy as np"
      ]
    },
    {
      "cell_type": "markdown",
      "metadata": {
        "id": "yCxncX_NUGdr"
      },
      "source": [
        "## Implementación de similitud por diagramas de transición"
      ]
    },
    {
      "cell_type": "code",
      "execution_count": null,
      "metadata": {},
      "outputs": [],
      "source": [
        "def get_file(file):\n",
        "    return open(file, 'r', encoding='utf-8', errors='ignore').read()"
      ]
    },
    {
      "cell_type": "code",
      "execution_count": null,
      "metadata": {
        "id": "DUQNEJpUMf0p"
      },
      "outputs": [],
      "source": [
        "def get_words(text):\n",
        "  file = open(text, \"r\", encoding = 'utf-8', errors ='ignore')\n",
        "  words = file.read()\n",
        "  file.close()\n",
        "\n",
        "  punctuation = [\"_\", \"-\", \".\", \":\", \",\" , \";\", \"(\", \")\", \"?\", \"¿\", \"¡\", \"!\"]\n",
        "  for i in punctuation:\n",
        "      words = words.replace(i, \" \")\n",
        "\n",
        "  words = words.lower()\n",
        "  words = words.replace('\\n', ' ')\n",
        "\n",
        "  return words"
      ]
    },
    {
      "cell_type": "code",
      "execution_count": null,
      "metadata": {
        "id": "_WiRrLAXMg73"
      },
      "outputs": [],
      "source": [
        "def split_words(text1, text2):\n",
        "  splitted_words = list(set(text1.split() + text2.split()))\n",
        "  return splitted_words"
      ]
    },
    {
      "cell_type": "code",
      "execution_count": null,
      "metadata": {
        "id": "GL37D8CsM-L3"
      },
      "outputs": [],
      "source": [
        "def create_transition_matrix(text, words):\n",
        "  # Inicializar la matriz de transición\n",
        "  matrix = np.zeros((len(words), len(words)))\n",
        "\n",
        "  # Dividir el texto en palabras\n",
        "  word_list = text.split()\n",
        "\n",
        "  # Calcular las frecuencias de las transiciones entre palabras\n",
        "  for i in range(len(word_list) - 1):\n",
        "      current_word = word_list[i]\n",
        "      next_word = word_list[i + 1]\n",
        "\n",
        "      current_index = words.index(current_word)\n",
        "      next_index = words.index(next_word)\n",
        "\n",
        "      matrix[current_index][next_index] += 1\n",
        "\n",
        "  # Normalizar las filas de la matriz, evitando divisiones por cero\n",
        "  row_sums = matrix.sum(axis=1)\n",
        "  nonzero_rows = np.nonzero(row_sums)\n",
        "  matrix_normalized = np.zeros_like(matrix)\n",
        "  matrix_normalized[nonzero_rows, :] = matrix[nonzero_rows, :] / row_sums[nonzero_rows, np.newaxis]\n",
        "\n",
        "  return matrix_normalized"
      ]
    },
    {
      "cell_type": "code",
      "execution_count": null,
      "metadata": {
        "id": "Ztu2S-rwM_5n"
      },
      "outputs": [],
      "source": [
        "def cos_ang(mat1, mat2):\n",
        "  mat2T = np.transpose(mat2)\n",
        "  c = np.dot(mat2T, mat1)\n",
        "  prod_int = np.trace(c)\n",
        "  normA = np.sqrt(np.trace((np.dot(np.transpose(mat1), mat1))))\n",
        "  normB = np.sqrt(np.trace((np.dot(np.transpose(mat2), mat2))))\n",
        "\n",
        "  print(\"prod_int = %.4f\" %prod_int)\n",
        "  print(\"normA = %.4f\" %normA)\n",
        "  print(\"normB = %.4f\" %normB)\n",
        "\n",
        "  return prod_int / (normA * normB)"
      ]
    },
    {
      "cell_type": "markdown",
      "metadata": {
        "id": "t5f-xK3yUVDi"
      },
      "source": [
        "## Similitud entre dos códigos hechos en C. ¿Qué preprocesamiento tendrías que hacer con los códigos antes de compararlos? (Por ejemplo, a = b + c y r = m + n se tomarían como completamente disintos. ¿Cómo podrías evitar eso?"
      ]
    },
    {
      "cell_type": "code",
      "execution_count": null,
      "metadata": {},
      "outputs": [
        {
          "name": "stdout",
          "output_type": "stream",
          "text": [
            "int x = 0; \n",
            "x++; \n",
            "System.out.println(x); \n",
            "y = 2 \n",
            "z = 3; \n"
          ]
        }
      ],
      "source": [
        "import re\n",
        "\n",
        "def remove_comments(text):\n",
        "    # Remove all block comments (/* */)\n",
        "    text = re.sub(r'/\\*.*?\\*/', '', text, flags=re.DOTALL)\n",
        "    # Remove all line comments (//)\n",
        "    text = re.sub(r'//.*', '', text)\n",
        "    # Remove all Python line comments (#)\n",
        "    text = re.sub(r'#.*', '', text)\n",
        "    # Remove all Python block comments (''' ''')\n",
        "    text = re.sub(r\"'''(.*?)'''\", '', text, flags=re.DOTALL)\n",
        "    # Remove all Python block comments (\"\"\" \"\"\")\n",
        "    text = re.sub(r'\"\"\"(.*?)\"\"\"', '', text, flags=re.DOTALL)\n",
        "    \n",
        "    # Split the text into lines, clean empty lines\n",
        "    lines = text.split('\\n')\n",
        "    cleaned_lines = [line for line in lines if line.strip() != '']\n",
        "    \n",
        "    cleaned_text = '\\n'.join(cleaned_lines)\n",
        "    return cleaned_text\n",
        "\n",
        "# Ejemplo de uso\n",
        "code = \"\"\"/* Block comment */\n",
        "int x = 0; // Line comment\n",
        "\n",
        "x++; /* Another block\n",
        "comment */\n",
        "\n",
        "System.out.println(x); // Print x\n",
        "\n",
        "# This is a Python comment\n",
        "y = 2 # Another Python comment\n",
        "\n",
        "''' Python block comment\n",
        "spanning multiple lines '''\n",
        "z = 3; // C style line comment\n",
        "\n",
        "\"\"\"\n",
        "cleaned_code = remove_comments(code)\n",
        "print(cleaned_code)\n"
      ]
    },
    {
      "cell_type": "code",
      "execution_count": 34,
      "metadata": {
        "id": "gnvw03ofOGQW"
      },
      "outputs": [],
      "source": [
        "def similitud(text1, text2):\n",
        "  data1 = remove_comments(text1)\n",
        "  data2 = remove_comments(text2)\n",
        "\n",
        "  split_data = split_words(data1, data2)\n",
        "\n",
        "  mat1 = create_transition_matrix(data1, split_data)\n",
        "  mat2 = create_transition_matrix(data2, split_data)\n",
        "  cos = cos_ang(mat1, mat2)\n",
        "\n",
        "  print(\"La similitud de los textos es de: %.4f\" %cos)\n",
        "\n",
        "  return cos # Debe retornar un valor %cos\n"
      ]
    },
    {
      "cell_type": "code",
      "execution_count": 35,
      "metadata": {
        "colab": {
          "base_uri": "https://localhost:8080/"
        },
        "id": "fER_AIjInrqz",
        "outputId": "9541afb7-c29e-4c0d-f628-f07c231dbc4e"
      },
      "outputs": [
        {
          "name": "stdout",
          "output_type": "stream",
          "text": [
            "prod_int = 0.8333\n",
            "normA = 1.8708\n",
            "normB = 1.7638\n",
            "La similitud de los textos es de: 0.2525\n",
            "0.25253813613805265\n"
          ]
        }
      ],
      "source": [
        "# print(\"La similitud de los textos es de: %.4f\" %cos)\n",
        "print(similitud(\"a c b a d c\", \"b a c a b d b a b\"))"
      ]
    }
  ],
  "metadata": {
    "colab": {
      "provenance": []
    },
    "kernelspec": {
      "display_name": "Python 3",
      "name": "python3"
    },
    "language_info": {
      "codemirror_mode": {
        "name": "ipython",
        "version": 3
      },
      "file_extension": ".py",
      "mimetype": "text/x-python",
      "name": "python",
      "nbconvert_exporter": "python",
      "pygments_lexer": "ipython3",
      "version": "3.11.2"
    }
  },
  "nbformat": 4,
  "nbformat_minor": 0
}
